{
    "cells": [
        {
            "cell_type": "markdown",
            "id": "ac622319",
            "metadata": {},
            "source": [
                "# Descriptive statistics problems"
            ]
        },
        {
            "cell_type": "markdown",
            "id": "5e0ab0d5",
            "metadata": {},
            "source": [
                "### Exercise 1\n",
                "\n",
                "We will use NumPy to obtain information to describe statistically.\n",
                "\n",
                "- Generate an array of 100 elements following a normal distribution.\n",
                "- Generate an array of 100 elements following a chi-square distribution with 3 degrees of freedom.\n",
                "- Calculate the main metrics and statistical measures that best describe the two vectors."
            ]
        },
        {
            "cell_type": "code",
            "execution_count": 2,
            "id": "34720ab6",
            "metadata": {},
            "outputs": [
                {
                    "name": "stdout",
                    "output_type": "stream",
                    "text": [
                        "                      Name      Mean    Median  Standard Deviation  Variance  \\\n",
                        "0      Normal Distribution -0.019525 -0.144106            0.962207  0.925842   \n",
                        "1  Chi-Square Distribution  2.966910  2.515339            2.185237  4.775262   \n",
                        "\n",
                        "        Min       Max  25th Percentile  50th Percentile (Median)  \\\n",
                        "0 -2.257773  2.425687        -0.745375                 -0.144106   \n",
                        "1  0.114454  8.899143         1.244074                  2.515339   \n",
                        "\n",
                        "   75th Percentile  \n",
                        "0         0.630742  \n",
                        "1         4.160345  \n"
                    ]
                }
            ],
            "source": [
                "import numpy as np\n",
                "import pandas as pd\n",
                "\n",
                "# Generate the arrays\n",
                "normal_array = np.random.normal(loc=0, scale=1, size=100)  # Normal distribution\n",
                "chi_square_array = np.random.chisquare(df=3, size=100)  # Chi-square distribution with 3 degrees of freedom\n",
                "\n",
                "# Calculate main metrics and statistical measures\n",
                "def calculate_statistics(array, name):\n",
                "    stats = {\n",
                "        \"Name\": name,\n",
                "        \"Mean\": np.mean(array),\n",
                "        \"Median\": np.median(array),\n",
                "        \"Standard Deviation\": np.std(array),\n",
                "        \"Variance\": np.var(array),\n",
                "        \"Min\": np.min(array),\n",
                "        \"Max\": np.max(array),\n",
                "        \"25th Percentile\": np.percentile(array, 25),\n",
                "        \"50th Percentile (Median)\": np.percentile(array, 50),\n",
                "        \"75th Percentile\": np.percentile(array, 75)\n",
                "    }\n",
                "    return stats\n",
                "\n",
                "# Calculate statistics for both arrays\n",
                "normal_stats = calculate_statistics(normal_array, \"Normal Distribution\")\n",
                "chi_square_stats = calculate_statistics(chi_square_array, \"Chi-Square Distribution\")\n",
                "\n",
                "# Display results as a DataFrame for better readability\n",
                "results = pd.DataFrame([normal_stats, chi_square_stats])\n",
                "print(results)\n",
                "\n"
            ]
        },
        {
            "cell_type": "markdown",
            "id": "46c70c3d",
            "metadata": {},
            "source": [
                "### Exercise 2\n",
                "\n",
                "Write a Python program to calculate the standard deviation of the following data:\n",
                "\n",
                "```py\n",
                "data = [4, 2, 5, 8, 6]\n",
                "```"
            ]
        },
        {
            "cell_type": "code",
            "execution_count": 5,
            "id": "d590308e",
            "metadata": {},
            "outputs": [
                {
                    "data": {
                        "text/plain": [
                            "np.float64(2.0)"
                        ]
                    },
                    "execution_count": 5,
                    "metadata": {},
                    "output_type": "execute_result"
                }
            ],
            "source": [
                "data = [4,2,5,8,6]\n",
                "def std_dev(data):\n",
                "    return (np.sum((data - np.mean(data))**2/len(data)))**0.5\n",
                "std_dev(data)"
            ]
        },
        {
            "cell_type": "code",
            "execution_count": null,
            "id": "f6189df7",
            "metadata": {},
            "outputs": [],
            "source": []
        }
    ],
    "metadata": {
        "kernelspec": {
            "display_name": "Python 3",
            "language": "python",
            "name": "python3"
        },
        "language_info": {
            "codemirror_mode": {
                "name": "ipython",
                "version": 3
            },
            "file_extension": ".py",
            "mimetype": "text/x-python",
            "name": "python",
            "nbconvert_exporter": "python",
            "pygments_lexer": "ipython3",
            "version": "3.11.4"
        }
    },
    "nbformat": 4,
    "nbformat_minor": 5
}
